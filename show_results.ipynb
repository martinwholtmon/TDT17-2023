{
 "cells": [
  {
   "cell_type": "code",
   "execution_count": 1,
   "metadata": {},
   "outputs": [],
   "source": [
    "import torch\n",
    "import pytorch_lightning as pl\n",
    "import pandas as pd\n",
    "import matplotlib.pyplot as plt\n",
    "import segmentation_models_pytorch as smp\n",
    "from model import SegmentationModel\n"
   ]
  },
  {
   "cell_type": "code",
   "execution_count": 3,
   "metadata": {},
   "outputs": [],
   "source": [
    "IN_CHANNELS = 3\n",
    "CLASSES_TO_PREDICT = 20"
   ]
  },
  {
   "cell_type": "code",
   "execution_count": 4,
   "metadata": {},
   "outputs": [],
   "source": [
    "# Define the model, for example, a DeepLabV3 with a ResNet-101 encoder\n",
    "ENCODER_NAME = \"resnet101\"\n",
    "ENCODER_WEIGHTS = \"imagenet\"  # No pre-trained weights\n",
    "ACTIVATION = (\n",
    "    None  # Could be None for logits or 'softmax2d' for multiclass segmentation\n",
    ")\n",
    "\n",
    "# Create the segmentation model with specified encoder\n",
    "model = smp.DeepLabV3Plus(\n",
    "    encoder_name=ENCODER_NAME,\n",
    "    encoder_weights=ENCODER_WEIGHTS,\n",
    "    in_channels=IN_CHANNELS,\n",
    "    classes=CLASSES_TO_PREDICT,\n",
    "    activation=ACTIVATION,\n",
    ")"
   ]
  },
  {
   "cell_type": "code",
   "execution_count": 8,
   "metadata": {},
   "outputs": [],
   "source": [
    "weigths = \"checkpoints\\DeepLabV3Plus\\epoch=5_val_loss=0.34_val_accuracy=0.00.ckpt\"\n",
    "semantic_model = SegmentationModel.load_from_checkpoint(checkpoint_path=weigths, model=model)"
   ]
  }
 ],
 "metadata": {
  "kernelspec": {
   "display_name": "pytorch-nightly11",
   "language": "python",
   "name": "python3"
  },
  "language_info": {
   "codemirror_mode": {
    "name": "ipython",
    "version": 3
   },
   "file_extension": ".py",
   "mimetype": "text/x-python",
   "name": "python",
   "nbconvert_exporter": "python",
   "pygments_lexer": "ipython3",
   "version": "3.11.5"
  }
 },
 "nbformat": 4,
 "nbformat_minor": 2
}
